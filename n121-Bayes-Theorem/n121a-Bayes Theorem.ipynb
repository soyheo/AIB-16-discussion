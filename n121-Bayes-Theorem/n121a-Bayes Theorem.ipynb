{
  "nbformat": 4,
  "nbformat_minor": 0,
  "metadata": {
    "colab": {
      "name": "\bn121a_Bayesian_Inference.ipynb",
      "provenance": [],
      "collapsed_sections": [],
      "include_colab_link": true
    },
    "kernelspec": {
      "name": "python3",
      "display_name": "Python 3"
    },
    "language_info": {
      "name": "python"
    }
  },
  "cells": [
    {
      "cell_type": "markdown",
      "metadata": {
        "id": "view-in-github",
        "colab_type": "text"
      },
      "source": [
        "<a href=\"https://colab.research.google.com/github/soyheo/AIB-16-discussion/blob/main/n121-Bayes-Theorem/n121a-Bayes%20Theorem.ipynb\" target=\"_parent\"><img src=\"https://colab.research.google.com/assets/colab-badge.svg\" alt=\"Open In Colab\"/></a>"
      ]
    },
    {
      "cell_type": "markdown",
      "source": [
        "<img src='https://i.imgur.com/RDAD11M.png' width = '200' align = 'right'>\n",
        "\n",
        "## *DATA SCIENCE / SECTION 1 / SPRINT 2 / NOTE 1*\n",
        "\n",
        "---\n",
        "\n",
        "# 📝 Assignment\n"
      ],
      "metadata": {
        "id": "E_gVpMwF8INA"
      }
    },
    {
      "cell_type": "markdown",
      "source": [
        "# 🌱 **기본 과제**"
      ],
      "metadata": {
        "id": "T4vVuYyM9vjo"
      }
    },
    {
      "cell_type": "markdown",
      "source": [
        "## **Part 1. 전체 확률의 법칙**\n",
        "\n",
        "> 우리에게는 구부러진 동전이 있습니다. <br>\n",
        "그리고 이 동전을 던졌을 때, 앞면이 나올 확률은 **0.8** 입니다.\n",
        "\n",
        "\n"
      ],
      "metadata": {
        "id": "2FzT4GJi-EYx"
      }
    },
    {
      "cell_type": "markdown",
      "source": [
        "##### **Q1.  해당 동전을 4번 던졌을 때의 진리표를 직접 작성해보세요. 진리표를 통해, 나올 수 있는 모든 경우의 수와, 2개의 앞면이 나오는 경우의 수를 확인한 후, (`모든 경우의 수` , `2개의 앞면이 나오는 경우의 수`) 의 형태로 쓰세요.** e.g. (12, 3)"
      ],
      "metadata": {
        "id": "UM2iqE4krN7O"
      }
    },
    {
      "cell_type": "code",
      "source": [
        "(16, 6)"
      ],
      "metadata": {
        "id": "ZhJhw_WeVFAd"
      },
      "execution_count": null,
      "outputs": []
    },
    {
      "cell_type": "markdown",
      "source": [
        "## **Part 2. 이항 분포**\n",
        "\n",
        "앞서 진행한 것 처럼 모든 경우에 대한 진리표에서 특정 경우의 수를 확인할수도 있지만, 이는 경우의 수가 증가함에 따라 매우 비효율적인 방법입니다.\n",
        "\n",
        "따라서 이항분포의 formula를 활용하여 우리가 찾고자 하는 경우의 수를 확인해보도록 하겠습니다.\n",
        "\n",
        "<br>\n",
        "\n",
        "> 1번 문제와 마찬가지로 우리에게 주어진 동전은 구부러져있으며, 앞면이 나올 확률은 **0.8** 입니다.\n",
        "\n",
        "\n",
        "\n",
        "\n"
      ],
      "metadata": {
        "id": "HxC5medb-MdL"
      }
    },
    {
      "cell_type": "markdown",
      "source": [
        "##### **Q2. 해당 동전을 16번 던졌을 때, 8개의 앞면이 나올 확률을 반올림하여 소수점 셋째 자리까지 구하세요.**\n",
        "\n",
        "\n",
        "\n",
        "\n",
        "- `math` 라이브러리의 [`factorial`](https://www.geeksforgeeks.org/python-math-factorial-function/)을 활용해보세요."
      ],
      "metadata": {
        "id": "dQAdOZLbrRHZ"
      }
    },
    {
      "cell_type": "code",
      "source": [
        "import numpy as np\n",
        "import pandas as pd\n",
        "import math\n"
      ],
      "metadata": {
        "id": "uNiLgwMmF8jz"
      },
      "execution_count": 2,
      "outputs": []
    },
    {
      "cell_type": "code",
      "source": [
        "res = math.factorial(16)/(math.factorial(8)*math.factorial(8))\n",
        "round(res*(0.8**8)*(0.2**8), 3)"
      ],
      "metadata": {
        "id": "pUk297qFrmTe",
        "outputId": "8c78bd21-e774-4399-a2aa-1ced23df18ac",
        "colab": {
          "base_uri": "https://localhost:8080/"
        }
      },
      "execution_count": 8,
      "outputs": [
        {
          "output_type": "execute_result",
          "data": {
            "text/plain": [
              "0.006"
            ]
          },
          "metadata": {},
          "execution_count": 8
        }
      ]
    },
    {
      "cell_type": "markdown",
      "source": [
        "## **Part 3. 조건부 확률**\n",
        "\n",
        "> 여러분은 A 학원 사이트의 로그 데이터를 확인하고 있습니다. 초기 등록자는 40명이었지만, 해당 학원에 최종적으로 등록한 학생 수와 등록하지 않은 학생 수는 다음과 같습니다. \n",
        "\n",
        "|구분| 최종 등록 | 등록 포기 |\n",
        "|:-:|:-------:|:-------:|\n",
        "|국어|10|5|\n",
        "|수학|15|10|\n",
        "\n",
        "\n"
      ],
      "metadata": {
        "id": "xr7e5rah-OKB"
      }
    },
    {
      "cell_type": "markdown",
      "source": [
        "##### **Q3. 초기 등록자 중 임의로 선택한 한 명이 최종 등록한 학생이었을 때, 그 학생이 수학 과목에 등록했을 확률을 구하세요.**"
      ],
      "metadata": {
        "id": "eSScNs7or9AZ"
      }
    },
    {
      "cell_type": "code",
      "source": [
        "# P(E) = 25/40\n",
        "# P(M|E) = P(E|M)P(M)/P(E)\n",
        "(15/25)*(25/40)/(25/40)"
      ],
      "metadata": {
        "id": "crp7GAEFcX5p",
        "outputId": "d6b9130e-aee5-44b7-d58f-231fc09d1171",
        "colab": {
          "base_uri": "https://localhost:8080/"
        }
      },
      "execution_count": 12,
      "outputs": [
        {
          "output_type": "execute_result",
          "data": {
            "text/plain": [
              "0.6"
            ]
          },
          "metadata": {},
          "execution_count": 12
        }
      ]
    },
    {
      "cell_type": "markdown",
      "source": [
        "## **Part 4. 베이지안 추론**"
      ],
      "metadata": {
        "id": "2T_-4guR-P-h"
      }
    },
    {
      "cell_type": "markdown",
      "source": [
        "### **4-1. Exam Answer**\n",
        "\n",
        "> 오지선다 문제를 푸는 과정에서, 학생은 답을 이미 알고 있거나 찍어야 합니다. \n",
        "> \n",
        "> 학생이 답을 알 확률은 **0.3**이고, 답을 찍어서 맞출 확률은 **0.2**이며, 문제의 답을 알고있다면 반드시 맞춘다고 가정합니다.\n",
        "\n"
      ],
      "metadata": {
        "id": "SwWIyBcSQbfv"
      }
    },
    {
      "cell_type": "markdown",
      "source": [
        "##### **Q4. 학생이 문제의 답을 맞췄을 때, 답을 알고 있었을 확률을 반올림하여 소수점 둘째 자리까지 구하세요.** "
      ],
      "metadata": {
        "id": "tDJJFhL_sp2l"
      }
    },
    {
      "cell_type": "code",
      "source": [
        "#P(암|정답) = P(정답|암)P(암)/P(정답)\n",
        "# P(정답) = 0.3*1+0.7*0.2 = 0.44\n",
        "# P(암) = 0.3\n",
        "# P(정답|암) = 1\n",
        "round(1*0.3/0.44, 2)"
      ],
      "metadata": {
        "id": "gsEl0EXeQxGs",
        "outputId": "41021eb8-3006-4362-acda-ae91d33bddb8",
        "colab": {
          "base_uri": "https://localhost:8080/"
        }
      },
      "execution_count": 19,
      "outputs": [
        {
          "output_type": "execute_result",
          "data": {
            "text/plain": [
              "0.68"
            ]
          },
          "metadata": {},
          "execution_count": 19
        }
      ]
    },
    {
      "cell_type": "markdown",
      "source": [
        "### **4-2. Disease Detection**\n",
        "\n",
        "> 특정 질병을 가지고 있는 경우 **`tpr`** 의 확률로 탐지할 수 있는 실험 방법이 있습니다.\n",
        "> \n",
        "> 그러나 동시에 이 방법은 **`fpr`** 의 확률로 질병이 없지만 질병이 있다고 진단하는 경우도 있는데요.\n",
        "> \n",
        "> 실제로 모든 인구 중 이 질병을 가지고 있을 확률은 **`\bprior`** 입니다."
      ],
      "metadata": {
        "id": "a3p6hGnhQqma"
      }
    },
    {
      "cell_type": "markdown",
      "source": [
        "##### **Q5. 특정 사람이 이 방법을 통해 질병이 있다고 진단받았을 때, 실제로 질병을 가지고 있을 확률을 구하는 함수를 완성한 후 `tpr=0.9`, `fpr=0.01`, `prior=0.1` 일 때의 결과값(`posterior`)을 반올림하여 소수점 둘째 자리까지 구하세요.**"
      ],
      "metadata": {
        "id": "GHO2le97sxAb"
      }
    },
    {
      "cell_type": "code",
      "execution_count": 21,
      "metadata": {
        "id": "1ZgvQaQc78n5",
        "outputId": "4f408414-f4c4-40cc-e9a7-5dbf995fb536",
        "colab": {
          "base_uri": "https://localhost:8080/"
        }
      },
      "outputs": [
        {
          "output_type": "execute_result",
          "data": {
            "text/plain": [
              "0.91"
            ]
          },
          "metadata": {},
          "execution_count": 21
        }
      ],
      "source": [
        "def result(tpr, fpr, prior):\n",
        "  disease_under_dignosis = tpr*prior/(prior*tpr + (1-prior)*fpr)\n",
        "  return round(disease_under_dignosis, 2)\n",
        "result(0.9, 0.01, 0.1)\n"
      ]
    },
    {
      "cell_type": "markdown",
      "source": [
        "### **4-3. \b\bGuilty or Not**\n",
        "\n",
        "> 한 범죄사건의 용의자가 유죄일 확률은 **60%**라고 형사는 확신하고 있습니다.\n",
        "> \n",
        "> 그 후 **해당 사건의 범인이 왼손잡이**라는 증거가 발견되었고, 용의자는 왼손잡이 입니다. **전체 인구의 20%**가 이 특성(왼손잡이)을 가지고 있습니다.\n",
        "\n",
        "\n",
        "\n"
      ],
      "metadata": {
        "id": "iVDrfMirvVUn"
      }
    },
    {
      "cell_type": "markdown",
      "source": [
        "##### **Q6. 증거가 발견된 후, 이제 형사는 용의자가 유죄일 확률을 얼마로 확신하고 있는지 반올림하여 소수점 둘째자리까지 구하세요.**"
      ],
      "metadata": {
        "id": "NWHi0gZAs5dm"
      }
    },
    {
      "cell_type": "code",
      "source": [
        "# P(유죄|왼손) = P(왼손|유죄)P(유죄)/P(왼손)\n",
        "# P(왼손|유죄) = 1\n",
        "# P(유죄) = 0.6\n",
        "# P(왼손) = 1*0.6 + 0.4*0.2\n",
        "round(1*0.6/(1*0.6 + 0.4*0.2), 2)\n"
      ],
      "metadata": {
        "id": "t2vBbDKoyoqq",
        "outputId": "598f61e7-ec73-403e-fefa-34ab4de8eed6",
        "colab": {
          "base_uri": "https://localhost:8080/"
        }
      },
      "execution_count": 29,
      "outputs": [
        {
          "output_type": "execute_result",
          "data": {
            "text/plain": [
              "0.88"
            ]
          },
          "metadata": {},
          "execution_count": 29
        }
      ]
    },
    {
      "cell_type": "markdown",
      "source": [
        "# 🥇 **도전 과제**\n",
        "\n"
      ],
      "metadata": {
        "id": "vAnvY4cXWrnk"
      }
    },
    {
      "cell_type": "markdown",
      "source": [
        "## **Part 5. 이항분포**\n",
        "\n",
        "Scipy의 Stats 라이브러리의 [binomial 메서드](https://docs.scipy.org/doc/scipy-0.14.0/reference/generated/scipy.stats.binom.html)를 참고하여, 앞면이 나올 확률이 **0.75**인 구부러진 동전을 100번 던졌을 때, 35번 앞면이 나올 확률을 구해보세요."
      ],
      "metadata": {
        "id": "My5EBKYkCvHO"
      }
    },
    {
      "cell_type": "code",
      "source": [
        "# 이곳에 코드를 작성하세요."
      ],
      "metadata": {
        "id": "mkBZOfjnD8un"
      },
      "execution_count": null,
      "outputs": []
    },
    {
      "cell_type": "markdown",
      "source": [
        "## **Part 6. 몬티홀 문제**\n",
        "\n",
        "\n",
        "다음 [영상](https://www.youtube.com/watch?v=UexhMS_F5Qw)에서 등장하는 몬티홀 딜레마 문제를 베이지안 공식을 활용하여 해결해보세요.\n",
        "\n",
        "- 처음에 1번 문을 선택했다고 가정합니다. 진행자가 남은 두 개의 문 중 염소가 있는 문 하나를 공개한 상태에서 기존에 선택했던 문(1번문)에 자동차가 있을 확률을 구하세요. \n",
        "\n",
        "- 처음 선택을 유지하는 것이 유리한\b지, 아니면 선택을 바꾸는 것이 유리한지 생각해보세요."
      ],
      "metadata": {
        "id": "X4tgBbitCp7-"
      }
    },
    {
      "cell_type": "markdown",
      "source": [
        "```\n",
        "Hypothesis: 1번 문 뒤에 자동차가 있음\n",
        "Evidence: 진행자가 염소가 있는 문을 열어줌\n",
        "\n",
        "우리가 알고자 하는 것: P(H|E) -> 진행자가 염소가 있는 문을 열었을 때, 우리가 먼저 선택했던 문 안에 자동차가 있을 확률\n",
        "```\n"
      ],
      "metadata": {
        "id": "ZtAxlmteTOvj"
      }
    },
    {
      "cell_type": "code",
      "source": [
        "# 이곳에 코드를 작성하세요."
      ],
      "metadata": {
        "id": "NUau-7vXW6ZR"
      },
      "execution_count": null,
      "outputs": []
    }
  ]
}